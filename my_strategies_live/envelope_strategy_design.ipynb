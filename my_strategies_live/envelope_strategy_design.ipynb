{
 "cells": [
  {
   "cell_type": "code",
   "execution_count": 1,
   "metadata": {},
   "outputs": [],
   "source": [
    "# -----------------------------------------\n",
    "# SINGLE COIN ENVELOPE STRATEGY DESIGN CODE\n",
    "# -----------------------------------------\n",
    "\n",
    "# --- IMPORT LIBS ---\n",
    "import os\n",
    "try:\n",
    "    current_path = os.path.dirname(os.path.abspath(__file__))\n",
    "    my_dir = os.path.dirname(current_path)\n",
    "except:\n",
    "    current_path = os.getcwd()\n",
    "    my_dir = os.path.dirname(current_path)\n",
    "lib_file_path = os.path.join(my_dir, 'my_utilities')\n",
    "import sys\n",
    "sys.path.append(lib_file_path)\n",
    "import ta\n",
    "from perp_bybit import *\n",
    "from datetime import datetime\n",
    "import json\n",
    "import uuid\n",
    "import logging"
   ]
  },
  {
   "cell_type": "code",
   "execution_count": 2,
   "metadata": {},
   "outputs": [
    {
     "name": "stdout",
     "output_type": "stream",
     "text": [
      "Logging to: /Users/olivierdedecker/Documents/00_Dev/Python/Crypto_Robot_live/my_code/log_file_single_envelope_design.txt\n"
     ]
    }
   ],
   "source": [
    "# --- CONFIGURE LOGGER --\n",
    "log_file_path = os.path.join(my_dir, 'log_file_single_envelope_design.txt')\n",
    "print(f'Logging to: {log_file_path}')\n",
    "logging.basicConfig(filename = log_file_path, level=logging.INFO, format='%(asctime)s - %(levelname)s - %(message)s')\n",
    "\n",
    "showLog = True\n",
    "\n",
    "def log_me(message):\n",
    "    if showLog:\n",
    "        print(message)\n",
    "        logging.info(message)\n",
    "    else:\n",
    "        logging.info(message)"
   ]
  },
  {
   "cell_type": "code",
   "execution_count": 3,
   "metadata": {},
   "outputs": [
    {
     "name": "stdout",
     "output_type": "stream",
     "text": [
      "\n",
      "================================================================================\n",
      "STARTING BOT\n",
      "------------\n",
      "\n",
      "Start Execution Time : 19/08/2023 13:19:35\n"
     ]
    }
   ],
   "source": [
    "# --- LAUNCH ---\n",
    "showLog = True                      #\n",
    "now = datetime.now()\n",
    "current_time = now.strftime(\"%d/%m/%Y %H:%M:%S\")\n",
    "current_time_python = now.timestamp()\n",
    "log_me(\"\")\n",
    "log_me(\"=\"*80)\n",
    "log_me(\"STARTING BOT\")\n",
    "log_me(\"------------\")\n",
    "log_me(\"\")\n",
    "log_me(f\"Start Execution Time : {current_time}\")"
   ]
  },
  {
   "cell_type": "code",
   "execution_count": 7,
   "metadata": {},
   "outputs": [
    {
     "name": "stdout",
     "output_type": "stream",
     "text": [
      "Launching bot with VET/USDT:USDT on 1h and Leverage x 1\n",
      "\n",
      "-   -   -   -   -   -   -   -   -   -   -   -   -   -   -   -   -   -   -   -   \n"
     ]
    }
   ],
   "source": [
    "# --- PARAMETERS & VARIABLES ---\n",
    "# -- Account --\n",
    "secret_file_path = os.path.join(my_dir, 'secret.json')\n",
    "f = open(secret_file_path)\n",
    "secret = json.load(f)\n",
    "f.close()\n",
    "\n",
    "exchange_name = 'bybit'\n",
    "account_to_select = 'testnet_account'\n",
    "#account_to_select = 'real_account'\n",
    "production = True\n",
    "\n",
    "# -- Coins & timeframe --\n",
    "timeframe = '1h'\n",
    "pair = \"VET/USDT:USDT\"\n",
    "leverage = 1\n",
    "log_me(f\"Launching bot with {pair} on {timeframe} and Leverage x {leverage}\")\n",
    "log_me(\"\")\n",
    "log_me(\"-   \"*20)\n",
    "\n",
    "# -- Indicator variable --\n",
    "ema_shifts = [0.05, 0.1, 0.15]\n",
    "ema_period = 5\n",
    "\n",
    "# -- Rules --\n",
    "nLevel = len(ema_shifts)            # max number of open positions per coin\n",
    "position_type = [\"long\", \"short\"]   # indicate which kind of positions may be used\n",
    "open_position_asap = True\n",
    "close_position_with_indicator = False"
   ]
  },
  {
   "cell_type": "code",
   "execution_count": 8,
   "metadata": {},
   "outputs": [],
   "source": [
    "# --- FUNCTIONS ---\n",
    "def open_long(row):\n",
    "    if ('long' in position_type) and open_position_asap:\n",
    "        return True\n",
    "    else:\n",
    "        return False\n",
    "\n",
    "def close_long(row):\n",
    "    if close_position_with_indicator:\n",
    "        # some code\n",
    "        return True\n",
    "    else:\n",
    "        return False\n",
    "\n",
    "def open_short(row):\n",
    "    if ('short' in position_type) and open_position_asap:\n",
    "        return True\n",
    "    else:\n",
    "        return False\n",
    "\n",
    "def close_short(row):\n",
    "    if close_position_with_indicator:\n",
    "        # some code\n",
    "        return True\n",
    "    else:\n",
    "        return False"
   ]
  },
  {
   "cell_type": "code",
   "execution_count": 9,
   "metadata": {},
   "outputs": [
    {
     "name": "stdout",
     "output_type": "stream",
     "text": [
      "CHECKING BALANCES, POSITIONS AND ORDERS\n",
      "---------------------------------------\n",
      "\n",
      "ok.. set sandbox mode OFF\n"
     ]
    },
    {
     "ename": "PermissionDenied",
     "evalue": "bybit {\"retCode\":10010,\"retMsg\":\"Unmatched IP, please check your API key's bound IP addresses.\",\"result\":{},\"retExtInfo\":{},\"time\":1692444007568}",
     "output_type": "error",
     "traceback": [
      "\u001b[0;31m---------------------------------------------------------------------------\u001b[0m",
      "\u001b[0;31mPermissionDenied\u001b[0m                          Traceback (most recent call last)",
      "Cell \u001b[0;32mIn[9], line 6\u001b[0m\n\u001b[1;32m      4\u001b[0m log_me(\u001b[39m\"\u001b[39m\u001b[39m\"\u001b[39m)\n\u001b[1;32m      5\u001b[0m \u001b[39m# connect exchange\u001b[39;00m\n\u001b[0;32m----> 6\u001b[0m bybit \u001b[39m=\u001b[39m PerpBybit(\n\u001b[1;32m      7\u001b[0m     apiKey\u001b[39m=\u001b[39msecret[account_to_select][\u001b[39m\"\u001b[39m\u001b[39mapiKey\u001b[39m\u001b[39m\"\u001b[39m],\n\u001b[1;32m      8\u001b[0m     secret\u001b[39m=\u001b[39msecret[account_to_select][\u001b[39m\"\u001b[39m\u001b[39msecret\u001b[39m\u001b[39m\"\u001b[39m],\n\u001b[1;32m      9\u001b[0m     default_type\u001b[39m=\u001b[39m\u001b[39m'\u001b[39m\u001b[39mswap\u001b[39m\u001b[39m'\u001b[39m,\n\u001b[1;32m     10\u001b[0m     is_real\u001b[39m=\u001b[39msecret[account_to_select][\u001b[39m\"\u001b[39m\u001b[39mis_real\u001b[39m\u001b[39m\"\u001b[39m]\n\u001b[1;32m     11\u001b[0m )\n\u001b[1;32m     13\u001b[0m \u001b[39m# get portfolio balance data from exchange\u001b[39;00m\n\u001b[1;32m     14\u001b[0m usdt_equity \u001b[39m=\u001b[39m \u001b[39mfloat\u001b[39m(bybit\u001b[39m.\u001b[39mget_usdt_equity())\n",
      "File \u001b[0;32m~/Documents/00_Dev/Python/Crypto_Robot_live/my_code/my_utilities/perp_bybit.py:31\u001b[0m, in \u001b[0;36mPerpBybit.__init__\u001b[0;34m(self, apiKey, secret, default_type, is_real)\u001b[0m\n\u001b[1;32m     29\u001b[0m         \u001b[39mprint\u001b[39m(\u001b[39m'\u001b[39m\u001b[39mok.. set sandbox mode OFF\u001b[39m\u001b[39m'\u001b[39m)\n\u001b[1;32m     30\u001b[0m         \u001b[39mself\u001b[39m\u001b[39m.\u001b[39m_session\u001b[39m.\u001b[39mset_sandbox_mode(\u001b[39mFalse\u001b[39;00m)\n\u001b[0;32m---> 31\u001b[0m \u001b[39mself\u001b[39m\u001b[39m.\u001b[39mmarket \u001b[39m=\u001b[39m \u001b[39mself\u001b[39m\u001b[39m.\u001b[39m_session\u001b[39m.\u001b[39mload_markets()\n",
      "File \u001b[0;32m~/opt/anaconda3/envs/backtesting/lib/python3.11/site-packages/ccxt/base/exchange.py:1458\u001b[0m, in \u001b[0;36mExchange.load_markets\u001b[0;34m(self, reload, params)\u001b[0m\n\u001b[1;32m   1456\u001b[0m currencies \u001b[39m=\u001b[39m \u001b[39mNone\u001b[39;00m\n\u001b[1;32m   1457\u001b[0m \u001b[39mif\u001b[39;00m \u001b[39mself\u001b[39m\u001b[39m.\u001b[39mhas[\u001b[39m'\u001b[39m\u001b[39mfetchCurrencies\u001b[39m\u001b[39m'\u001b[39m] \u001b[39mis\u001b[39;00m \u001b[39mTrue\u001b[39;00m:\n\u001b[0;32m-> 1458\u001b[0m     currencies \u001b[39m=\u001b[39m \u001b[39mself\u001b[39m\u001b[39m.\u001b[39mfetch_currencies()\n\u001b[1;32m   1459\u001b[0m markets \u001b[39m=\u001b[39m \u001b[39mself\u001b[39m\u001b[39m.\u001b[39mfetch_markets(params)\n\u001b[1;32m   1460\u001b[0m \u001b[39mreturn\u001b[39;00m \u001b[39mself\u001b[39m\u001b[39m.\u001b[39mset_markets(markets, currencies)\n",
      "File \u001b[0;32m~/opt/anaconda3/envs/backtesting/lib/python3.11/site-packages/ccxt/bybit.py:1231\u001b[0m, in \u001b[0;36mbybit.fetch_currencies\u001b[0;34m(self, params)\u001b[0m\n\u001b[1;32m   1229\u001b[0m \u001b[39mif\u001b[39;00m \u001b[39mnot\u001b[39;00m \u001b[39mself\u001b[39m\u001b[39m.\u001b[39mcheck_required_credentials(\u001b[39mFalse\u001b[39;00m):\n\u001b[1;32m   1230\u001b[0m     \u001b[39mreturn\u001b[39;00m \u001b[39mNone\u001b[39;00m\n\u001b[0;32m-> 1231\u001b[0m response \u001b[39m=\u001b[39m \u001b[39mself\u001b[39m\u001b[39m.\u001b[39mprivateGetV5AssetCoinQueryInfo(params)\n\u001b[1;32m   1232\u001b[0m \u001b[39m#\u001b[39;00m\n\u001b[1;32m   1233\u001b[0m \u001b[39m#     {\u001b[39;00m\n\u001b[1;32m   1234\u001b[0m \u001b[39m#         \"retCode\": 0,\u001b[39;00m\n\u001b[0;32m   (...)\u001b[0m\n\u001b[1;32m   1260\u001b[0m \u001b[39m#     }\u001b[39;00m\n\u001b[1;32m   1261\u001b[0m \u001b[39m#\u001b[39;00m\n\u001b[1;32m   1262\u001b[0m data \u001b[39m=\u001b[39m \u001b[39mself\u001b[39m\u001b[39m.\u001b[39msafe_value(response, \u001b[39m'\u001b[39m\u001b[39mresult\u001b[39m\u001b[39m'\u001b[39m, [])\n",
      "File \u001b[0;32m~/opt/anaconda3/envs/backtesting/lib/python3.11/site-packages/ccxt/base/exchange.py:507\u001b[0m, in \u001b[0;36mExchange.define_rest_api_endpoint.<locals>.partialer.<locals>.inner\u001b[0;34m(_self, params, context)\u001b[0m\n\u001b[1;32m    505\u001b[0m \u001b[39mif\u001b[39;00m context \u001b[39mis\u001b[39;00m \u001b[39mnot\u001b[39;00m \u001b[39mNone\u001b[39;00m:\n\u001b[1;32m    506\u001b[0m     inner_kwargs[\u001b[39m'\u001b[39m\u001b[39mcontext\u001b[39m\u001b[39m'\u001b[39m] \u001b[39m=\u001b[39m params\n\u001b[0;32m--> 507\u001b[0m \u001b[39mreturn\u001b[39;00m entry(_self, \u001b[39m*\u001b[39m\u001b[39m*\u001b[39minner_kwargs)\n",
      "File \u001b[0;32m~/opt/anaconda3/envs/backtesting/lib/python3.11/site-packages/ccxt/base/exchange.py:2886\u001b[0m, in \u001b[0;36mExchange.request\u001b[0;34m(self, path, api, method, params, headers, body, config, context)\u001b[0m\n\u001b[1;32m   2885\u001b[0m \u001b[39mdef\u001b[39;00m \u001b[39mrequest\u001b[39m(\u001b[39mself\u001b[39m, path, api: Any \u001b[39m=\u001b[39m \u001b[39m'\u001b[39m\u001b[39mpublic\u001b[39m\u001b[39m'\u001b[39m, method\u001b[39m=\u001b[39m\u001b[39m'\u001b[39m\u001b[39mGET\u001b[39m\u001b[39m'\u001b[39m, params\u001b[39m=\u001b[39m{}, headers: Optional[Any] \u001b[39m=\u001b[39m \u001b[39mNone\u001b[39;00m, body: Optional[Any] \u001b[39m=\u001b[39m \u001b[39mNone\u001b[39;00m, config\u001b[39m=\u001b[39m{}, context\u001b[39m=\u001b[39m{}):\n\u001b[0;32m-> 2886\u001b[0m     \u001b[39mreturn\u001b[39;00m \u001b[39mself\u001b[39m\u001b[39m.\u001b[39mfetch2(path, api, method, params, headers, body, config, context)\n",
      "File \u001b[0;32m~/opt/anaconda3/envs/backtesting/lib/python3.11/site-packages/ccxt/base/exchange.py:2883\u001b[0m, in \u001b[0;36mExchange.fetch2\u001b[0;34m(self, path, api, method, params, headers, body, config, context)\u001b[0m\n\u001b[1;32m   2881\u001b[0m \u001b[39mself\u001b[39m\u001b[39m.\u001b[39mlastRestRequestTimestamp \u001b[39m=\u001b[39m \u001b[39mself\u001b[39m\u001b[39m.\u001b[39mmilliseconds()\n\u001b[1;32m   2882\u001b[0m request \u001b[39m=\u001b[39m \u001b[39mself\u001b[39m\u001b[39m.\u001b[39msign(path, api, method, params, headers, body)\n\u001b[0;32m-> 2883\u001b[0m \u001b[39mreturn\u001b[39;00m \u001b[39mself\u001b[39m\u001b[39m.\u001b[39mfetch(request[\u001b[39m'\u001b[39m\u001b[39murl\u001b[39m\u001b[39m'\u001b[39m], request[\u001b[39m'\u001b[39m\u001b[39mmethod\u001b[39m\u001b[39m'\u001b[39m], request[\u001b[39m'\u001b[39m\u001b[39mheaders\u001b[39m\u001b[39m'\u001b[39m], request[\u001b[39m'\u001b[39m\u001b[39mbody\u001b[39m\u001b[39m'\u001b[39m])\n",
      "File \u001b[0;32m~/opt/anaconda3/envs/backtesting/lib/python3.11/site-packages/ccxt/base/exchange.py:669\u001b[0m, in \u001b[0;36mExchange.fetch\u001b[0;34m(self, url, method, headers, body)\u001b[0m\n\u001b[1;32m    666\u001b[0m     \u001b[39melse\u001b[39;00m:\n\u001b[1;32m    667\u001b[0m         \u001b[39mraise\u001b[39;00m ExchangeError(details) \u001b[39mfrom\u001b[39;00m \u001b[39me\u001b[39;00m\n\u001b[0;32m--> 669\u001b[0m \u001b[39mself\u001b[39m\u001b[39m.\u001b[39mhandle_errors(http_status_code, http_status_text, url, method, headers, http_response, json_response, request_headers, request_body)\n\u001b[1;32m    670\u001b[0m \u001b[39mif\u001b[39;00m json_response \u001b[39mis\u001b[39;00m \u001b[39mnot\u001b[39;00m \u001b[39mNone\u001b[39;00m:\n\u001b[1;32m    671\u001b[0m     \u001b[39mreturn\u001b[39;00m json_response\n",
      "File \u001b[0;32m~/opt/anaconda3/envs/backtesting/lib/python3.11/site-packages/ccxt/bybit.py:7879\u001b[0m, in \u001b[0;36mbybit.handle_errors\u001b[0;34m(self, httpCode, reason, url, method, headers, body, response, requestHeaders, requestBody)\u001b[0m\n\u001b[1;32m   7877\u001b[0m     feedback \u001b[39m=\u001b[39m \u001b[39mself\u001b[39m\u001b[39m.\u001b[39mid \u001b[39m+\u001b[39m \u001b[39m'\u001b[39m\u001b[39m \u001b[39m\u001b[39m'\u001b[39m \u001b[39m+\u001b[39m body\n\u001b[1;32m   7878\u001b[0m \u001b[39mself\u001b[39m\u001b[39m.\u001b[39mthrow_broadly_matched_exception(\u001b[39mself\u001b[39m\u001b[39m.\u001b[39mexceptions[\u001b[39m'\u001b[39m\u001b[39mbroad\u001b[39m\u001b[39m'\u001b[39m], body, feedback)\n\u001b[0;32m-> 7879\u001b[0m \u001b[39mself\u001b[39m\u001b[39m.\u001b[39mthrow_exactly_matched_exception(\u001b[39mself\u001b[39m\u001b[39m.\u001b[39mexceptions[\u001b[39m'\u001b[39m\u001b[39mexact\u001b[39m\u001b[39m'\u001b[39m], errorCode, feedback)\n\u001b[1;32m   7880\u001b[0m \u001b[39mraise\u001b[39;00m ExchangeError(feedback)\n",
      "File \u001b[0;32m~/opt/anaconda3/envs/backtesting/lib/python3.11/site-packages/ccxt/base/exchange.py:3192\u001b[0m, in \u001b[0;36mExchange.throw_exactly_matched_exception\u001b[0;34m(self, exact, string, message)\u001b[0m\n\u001b[1;32m   3190\u001b[0m \u001b[39mdef\u001b[39;00m \u001b[39mthrow_exactly_matched_exception\u001b[39m(\u001b[39mself\u001b[39m, exact, string, message):\n\u001b[1;32m   3191\u001b[0m     \u001b[39mif\u001b[39;00m string \u001b[39min\u001b[39;00m exact:\n\u001b[0;32m-> 3192\u001b[0m         \u001b[39mraise\u001b[39;00m exact[string](message)\n",
      "\u001b[0;31mPermissionDenied\u001b[0m: bybit {\"retCode\":10010,\"retMsg\":\"Unmatched IP, please check your API key's bound IP addresses.\",\"result\":{},\"retExtInfo\":{},\"time\":1692444007568}"
     ]
    }
   ],
   "source": [
    "# --- INITIALIZE EXCHANGE & GET BALANCE ---\n",
    "log_me('CHECKING BALANCES, POSITIONS AND ORDERS')\n",
    "log_me('---------------------------------------')\n",
    "log_me(\"\")\n",
    "# connect exchange\n",
    "bybit = PerpBybit(\n",
    "    apiKey=secret[account_to_select][\"apiKey\"],\n",
    "    secret=secret[account_to_select][\"secret\"],\n",
    "    default_type='swap',\n",
    "    is_real=secret[account_to_select][\"is_real\"]\n",
    ")\n",
    "\n",
    "# get portfolio balance data from exchange\n",
    "usdt_equity = float(bybit.get_usdt_equity())\n",
    "usdt_available_balance = float(bybit.get_usdt_available_balance())\n",
    "log_me(f'available usdt balance: {usdt_available_balance:.2f} $')\n",
    "\n",
    "# get balance, position and order data\n",
    "usd_balance = float(bybit.get_usdt_equity())\n",
    "log_me(f\"USD balance: {usd_balance:.2f} $\")\n",
    "\n",
    "positions_data = bybit.get_open_position()\n",
    "position_list = [\n",
    "    {\"side\": d[\"side\"], \"size\": float(d[\"contracts\"]) * float(d[\"contractSize\"]), \"market_price\":d[\"markPrice\"], \"usd_size\": float(d[\"contracts\"]) * float(d[\"contractSize\"]) * float(d[\"markPrice\"]), \"open_price\": d[\"entryPrice\"]}\n",
    "    for d in positions_data if d[\"symbol\"] == pair]\n",
    "df_position = pd.DataFrame(position_list)\n",
    "log_me('')\n",
    "log_me('Positions')\n",
    "log_me(df_position)\n",
    "\n",
    "orders_list = []\n",
    "for order in bybit.get_open_orders():\n",
    "    if order['symbol']==pair:\n",
    "        orders_list.append(order[\"info\"])\n",
    "df_orders = pd.DataFrame(orders_list)\n",
    "if df_orders.empty == False:\n",
    "    df_orders[\"price\"] = pd.to_numeric(df_orders[\"price\"])\n",
    "    df_orders[\"qty\"] = pd.to_numeric(df_orders[\"qty\"])\n",
    "log_me('')\n",
    "log_me('Open orders')\n",
    "log_me(df_orders)\n",
    "log_me(\"-   \"*20)\n",
    "log_me('')\n",
    "\n",
    "# Get data\n",
    "\"\"\"\n",
    "Reminder: you need to adjust the limit parameter in function of the timeframe you use\n",
    "On lower timeframes bybit will not provide the must up to date ohlc priced if the \n",
    "limit is too high\n",
    "\"\"\"\n",
    "df = bybit.get_more_last_historical_async(pair, timeframe, 30)"
   ]
  },
  {
   "cell_type": "code",
   "execution_count": 7,
   "metadata": {},
   "outputs": [],
   "source": [
    "for order in bybit.get_open_orders():\n",
    "    if order['symbol']==pair:\n",
    "        print(order)"
   ]
  },
  {
   "cell_type": "code",
   "execution_count": 8,
   "metadata": {},
   "outputs": [
    {
     "name": "stdout",
     "output_type": "stream",
     "text": [
      "COMPUTE INDICATORS\n",
      "------------------\n",
      "\n",
      "ema base : 0.018096089853222967\n",
      "ema high 1 : 0.019000894345884117\n",
      "ema low 1 : 0.017191285360561817\n",
      "ema high 2 : 0.019905698838545264\n",
      "ema low 2 : 0.01628648086790067\n",
      "ema high 3 : 0.02081050333120641\n",
      "ema low 3 : 0.015381676375239522\n",
      "\n",
      "-   -   -   -   -   -   -   -   -   -   -   -   -   -   -   -   -   -   -   -   \n"
     ]
    }
   ],
   "source": [
    "# --- POPULATE INDICATORS ---\n",
    "log_me(\"COMPUTE INDICATORS\")\n",
    "log_me(\"------------------\")\n",
    "log_me(\"\")\n",
    "sell_ema_values={}\n",
    "buy_ema_values={}\n",
    "df.drop(columns=df.columns.difference(['open','high','low','close','volume']), inplace=True)\n",
    "\n",
    "df['ema_base'] = ta.trend.ema_indicator(close=df['close'], window=ema_period)\n",
    "log_me(f'ema base : {df.iloc[-1][\"ema_base\"]}')\n",
    "for i, shift in enumerate(ema_shifts, start=1):\n",
    "    df[f'ema_high_{i}'] = df['ema_base'] * (1 + shift)\n",
    "    df[f'ema_low_{i}'] = df['ema_base'] * (1 - shift)\n",
    "    log_me(f'ema high {i} : {df.iloc[-1][\"ema_high_\" + str(i)]}')\n",
    "    log_me(f'ema low {i} : {df.iloc[-1][f\"ema_low_\" + str(i)]}')\n",
    "    sell_ema_values[f'ema_high_{i}'] = bybit.convert_price_to_precision(pair, df.iloc[-1][f'ema_high_{i}'])\n",
    "    buy_ema_values[f'ema_low_{i}'] = bybit.convert_price_to_precision(pair, df.iloc[-1][f'ema_low_{i}'])\n",
    "log_me(\"\")\n",
    "log_me(\"-   \"*20)"
   ]
  },
  {
   "cell_type": "code",
   "execution_count": 9,
   "metadata": {},
   "outputs": [
    {
     "name": "stdout",
     "output_type": "stream",
     "text": [
      "MANAGE ORDERS\n",
      "-------------\n",
      "\n",
      "Cancelled 0 longs and 0 shorts\n"
     ]
    }
   ],
   "source": [
    "# --- CANCEL OPEN UNFILLED ORDERS ---\n",
    "log_me(\"MANAGE ORDERS\")\n",
    "log_me(\"-------------\")\n",
    "log_me(\"\")\n",
    "cancelled_longs = []\n",
    "cancelled_shorts = []\n",
    "\n",
    "for order in orders_list:\n",
    "    if order['orderLinkId'] != '' and order['side']=='Buy':\n",
    "        enveloppe_id = order['orderLinkId'].split(\"#\")[0]\n",
    "        cancelled_longs.append(enveloppe_id)\n",
    "        order_id = order['orderId']\n",
    "        order_symbol = order['symbol']\n",
    "        log_me(f'Cancel buy order {order_id}')\n",
    "        if production:\n",
    "            bybit.cancel_order(order_id = order_id, symbol=order_symbol)\n",
    "    if order['orderLinkId'] != '' and order['side']=='Sell':\n",
    "        enveloppe_id = order['orderLinkId'].split(\"#\")[0]\n",
    "        cancelled_shorts.append(enveloppe_id)\n",
    "        order_id = order['orderId']\n",
    "        order_symbol = order['symbol']\n",
    "        log_me(f'Cancel sell order {order_id}')\n",
    "        if production:\n",
    "            bybit.cancel_order(order_id = order_id, symbol=order_symbol)\n",
    "\n",
    "log_me(f'Cancelled {len(cancelled_longs)} longs and {len(cancelled_shorts)} shorts')"
   ]
  },
  {
   "cell_type": "code",
   "execution_count": 10,
   "metadata": {},
   "outputs": [
    {
     "name": "stdout",
     "output_type": "stream",
     "text": [
      "usdt order size for new orders: 261.44752152666666 using 1x leverage\n",
      "coin order size for new orders: 14484.627231394275\n",
      "rounded coin order size for new orders: 14484.0\n",
      "Place ema_low_1 Long Limit Order: 14484.0 VET/USDT:USDT at the price of 0.0172 and tp at 0.0181\n",
      "Place ema_low_2 Long Limit Order: 14484.0 VET/USDT:USDT at the price of 0.0163 and tp at 0.0181\n",
      "Place ema_low_3 Long Limit Order: 14484.0 VET/USDT:USDT at the price of 0.0154 and tp at 0.0181\n",
      "Place ema_high_1 Short Limit Order: 14484.0 VET/USDT:USDT at the price of 0.019 and tp at 0.0181\n",
      "Place ema_high_2 Short Limit Order: 14484.0 VET/USDT:USDT at the price of 0.0199 and tp at 0.0181\n",
      "Place ema_high_3 Short Limit Order: 14484.0 VET/USDT:USDT at the price of 0.0208 and tp at 0.0181\n",
      "-   -   -   -   -   -   -   -   -   -   -   -   -   -   -   -   -   -   -   -   \n"
     ]
    }
   ],
   "source": [
    "# --- CREATE AND MODIFY ORDERS ---\n",
    "# deal entry logic\n",
    "row = df.iloc[-2]\n",
    "unique_id = f\"#{uuid.uuid4()}\"\n",
    "\n",
    "# Determine order size\n",
    "#available_positions = 1\n",
    "market_price = float(df.iloc[-1]['close'])\n",
    "usdt_position_size = usdt_available_balance #/ available_positions\n",
    "usdt_order_size = (usdt_position_size*leverage) / nLevel\n",
    "log_me(f'usdt order size for new orders: {usdt_order_size} using {leverage}x leverage')\n",
    "coin_order_size = usdt_order_size / market_price\n",
    "rounded_coin_order_size = float(bybit.convert_amount_to_precision(pair, coin_order_size))\n",
    "log_me(f'coin order size for new orders: {coin_order_size}')\n",
    "log_me(f'rounded coin order size for new orders: {rounded_coin_order_size}')\n",
    "\n",
    "# Adjust TP of open position\n",
    "if len(positions_data) > 0:\n",
    "    log_me(\"Active position\")\n",
    "    for order in orders_list:\n",
    "        if order['orderLinkId']=='':\n",
    "            order_size = order['qty']\n",
    "            order_tp = bybit.convert_price_to_precision(pair, df.iloc[-1]['ema_base'])\n",
    "            log_me(f\"Modify position TP: {order_size} {pair} at the price of {order_tp}$\")\n",
    "            if production:\n",
    "                order = bybit.edit_order(\n",
    "                    id=order['orderId'],\n",
    "                    symbol=order['symbol'],\n",
    "                    type=order['orderType'],\n",
    "                    side=order['side'],\n",
    "                    amount=order['qty'],\n",
    "                    price=None,\n",
    "                    params={\n",
    "                        'triggerPrice': bybit.convert_price_to_precision(pair, df.iloc[-1]['ema_base'])\n",
    "                    }\n",
    "                )\n",
    "\n",
    "# Create new limit orders for remaining slots\n",
    "if open_long(row) and \"long\" in position_type:\n",
    "    for ema, ema_value in buy_ema_values.items():\n",
    "        if (ema in cancelled_longs) or df_orders.empty or len(df_position)==0:\n",
    "            log_me(f\"Place {ema} Long Limit Order: {rounded_coin_order_size} {pair} at the price of {ema_value} and tp at {bybit.convert_price_to_precision(pair, df.iloc[-1]['ema_base'])}\")\n",
    "            if production:\n",
    "                order = bybit.place_limit_order(\n",
    "                    symbol=pair,\n",
    "                    side='buy',\n",
    "                    amount=rounded_coin_order_size,\n",
    "                    limit=ema_value,\n",
    "                    sl=None,\n",
    "                    tp=bybit.convert_price_to_precision(pair, df.iloc[-1]['ema_base']),\n",
    "                    reduce=False,\n",
    "                    orderLinkId=f'{ema}{unique_id}'\n",
    "                )\n",
    "\n",
    "if open_short(row) and \"short\" in position_type:\n",
    "    for ema, ema_value in sell_ema_values.items():\n",
    "        if (ema in cancelled_shorts) or df_orders.empty or len(df_position)==0:\n",
    "            log_me(f\"Place {ema} Short Limit Order: {rounded_coin_order_size} {pair} at the price of {ema_value} and tp at {bybit.convert_price_to_precision(pair, df.iloc[-1]['ema_base'])}\")\n",
    "            if production:\n",
    "                order = bybit.place_limit_order(\n",
    "                    symbol=pair,\n",
    "                    side='sell',\n",
    "                    amount=rounded_coin_order_size,\n",
    "                    limit=ema_value,\n",
    "                    sl=None,\n",
    "                    tp=bybit.convert_price_to_precision(pair, df.iloc[-1]['ema_base']),\n",
    "                    reduce=False,\n",
    "                    orderLinkId=f'{ema}{unique_id}'\n",
    "                )\n",
    "log_me(\"-   \"*20)"
   ]
  },
  {
   "cell_type": "code",
   "execution_count": 11,
   "metadata": {},
   "outputs": [
    {
     "name": "stdout",
     "output_type": "stream",
     "text": [
      "End Execution Time: 03/08/2023 17:30:08\n",
      "\n"
     ]
    }
   ],
   "source": [
    "# --- CLOSE ---\n",
    "now = datetime.now()\n",
    "current_time = now.strftime(\"%d/%m/%Y %H:%M:%S\")\n",
    "log_me(f\"End Execution Time: {current_time}\")\n",
    "log_me(\"\")"
   ]
  },
  {
   "cell_type": "code",
   "execution_count": null,
   "metadata": {},
   "outputs": [],
   "source": []
  }
 ],
 "metadata": {
  "kernelspec": {
   "display_name": "Python 3",
   "language": "python",
   "name": "python3"
  },
  "language_info": {
   "codemirror_mode": {
    "name": "ipython",
    "version": 3
   },
   "file_extension": ".py",
   "mimetype": "text/x-python",
   "name": "python",
   "nbconvert_exporter": "python",
   "pygments_lexer": "ipython3",
   "version": "3.11.2"
  },
  "orig_nbformat": 4
 },
 "nbformat": 4,
 "nbformat_minor": 2
}
