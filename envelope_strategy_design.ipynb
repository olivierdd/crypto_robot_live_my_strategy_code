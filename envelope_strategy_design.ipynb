{
 "cells": [
  {
   "cell_type": "code",
   "execution_count": 1,
   "metadata": {},
   "outputs": [],
   "source": [
    "# --- IMPORT LIBS ---\n",
    "import sys\n",
    "sys.path.append('/Users/olivierdedecker/Documents/00_Dev/Python/Crypto_Robot_live/live_tools/utilities')\n",
    "import ccxt\n",
    "import ta\n",
    "import pandas as pd\n",
    "#from perp_bitget import PerpBitget\n",
    "from perp_bybit import *\n",
    "from custom_indicators import get_n_columns\n",
    "from datetime import datetime\n",
    "import time\n",
    "import json\n",
    "import pprint\n",
    "import uuid"
   ]
  },
  {
   "cell_type": "code",
   "execution_count": 2,
   "metadata": {},
   "outputs": [
    {
     "name": "stdout",
     "output_type": "stream",
     "text": [
      "--- Start Execution Time : 28/06/2023 21:40:46 ---\n"
     ]
    }
   ],
   "source": [
    "# --- LAUNCH ---\n",
    "now = datetime.now()\n",
    "current_time = now.strftime(\"%d/%m/%Y %H:%M:%S\")\n",
    "current_time_python = now.timestamp()\n",
    "print(\"--- Start Execution Time :\", current_time, \"---\")"
   ]
  },
  {
   "cell_type": "code",
   "execution_count": 3,
   "metadata": {},
   "outputs": [
    {
     "name": "stdout",
     "output_type": "stream",
     "text": [
      "--- VET/USDT:USDT 1h Leverage x 1 ---\n"
     ]
    }
   ],
   "source": [
    "# --- PARAMETERS & VARIABLES ---\n",
    "# -- Account --\n",
    "f = open('../live_tools/secret.json')\n",
    "secret = json.load(f)\n",
    "f.close()\n",
    "\n",
    "exchange_name = 'bybit'\n",
    "account_to_select = 'testnet_account'\n",
    "production = True\n",
    "\n",
    "# -- Coins & timeframe --\n",
    "timeframe = '1h'\n",
    "pair = \"VET/USDT:USDT\"\n",
    "leverage = 1\n",
    "print(f\"--- {pair} {timeframe} Leverage x {leverage} ---\")\n",
    "\n",
    "# -- Indicator variable --\n",
    "ema_shifts = [0.05, 0.1, 0.15]\n",
    "ema_period = 5\n",
    "\n",
    "# -- Rules --\n",
    "SL_ativation = False            # flag to set explicit stop loss\n",
    "TP_activation = False           # flag to set explicit take profit\n",
    "SL_percentage = 0.5             # stop loss percentage applied to buy/sell price if flag activated\n",
    "TP_percentage = 0.10            # not used\n",
    "multi_ATR = 0.3                 # used to set take profit if flag activated\n",
    "showLog = True                  #\n",
    "max_coins_in_position = 1       # max number of coin positions\n",
    "nLevel = len(ema_shifts)        # max number of open positions per coin\n",
    "position_type = [\"long\", \"short\"]\n",
    "open_position_asap = True\n",
    "close_position_with_indicator = False\n",
    "\n",
    "\n",
    "# -- Value initialisation of trade monitoring variables of each coin --\n",
    "stopLoss = 0         # list of stop loss of each coin, set if SL_ativation is True\n",
    "takeProfit = 5000000 # list of take profit if TP_activation is True\n",
    "walletCoinArray = 0  # list of number of coins longed / shorted\n",
    "walletUsdArray = 0   # list of USDT used to enter in the position of each coin\n",
    "entryPrice = 0       # list of entry price of each coin\n",
    "leverageEnter = 1    # list of leverage used for each coin\n",
    "position = 'LONG'    # list of position directions for each coin\n",
    "nPosition = 0        # list of number of positions in each coin\n",
    "activePositions = 0  # number of open positions\n",
    "\n",
    "# -- Formating of dataframes --\n",
    "pd.set_option('display.max_columns', 5)  # Display any number of columns\n",
    "pd.set_option('display.max_rows', 5)  # Display any number of rows\n",
    "pd.set_option('display.expand_frame_repr', False)  # Don't wrap repr(DataFrame) across additional lines"
   ]
  },
  {
   "cell_type": "code",
   "execution_count": 4,
   "metadata": {},
   "outputs": [],
   "source": [
    "# --- FUNCTIONS ---\n",
    "def open_long(row):\n",
    "    if ('long' in position_type) and open_position_asap:\n",
    "        return True\n",
    "    else:\n",
    "        return False\n",
    "\n",
    "def close_long(row):\n",
    "    if close_position_with_indicator:\n",
    "        # some code\n",
    "        return True\n",
    "    else:\n",
    "        return False\n",
    "\n",
    "def open_short(row):\n",
    "    if ('short' in position_type) and open_position_asap:\n",
    "        return True\n",
    "    else:\n",
    "        return False\n",
    "\n",
    "def close_short(row):\n",
    "    if close_position_with_indicator:\n",
    "        # some code\n",
    "        return True\n",
    "    else:\n",
    "        return False"
   ]
  },
  {
   "cell_type": "code",
   "execution_count": 5,
   "metadata": {},
   "outputs": [
    {
     "name": "stdout",
     "output_type": "stream",
     "text": [
      "hey .. set sandbox mode ON\n",
      "available usdt balance : 740.25715872\n",
      "USD balance : 740.26 $\n",
      "Positions\n",
      "Empty DataFrame\n",
      "Columns: []\n",
      "Index: []\n",
      "Open orders\n",
      "Empty DataFrame\n",
      "Columns: []\n",
      "Index: []\n"
     ]
    }
   ],
   "source": [
    "# --- INITIALIZE EXCHANGE & GET BALANCE ---\n",
    "# connect exchange\n",
    "bybit = PerpBybit(\n",
    "    apiKey=secret[account_to_select][\"apiKey\"],\n",
    "    secret=secret[account_to_select][\"secret\"],\n",
    "    default_type='swap',\n",
    "    is_real=secret[account_to_select][\"is_real\"]\n",
    ")\n",
    "\n",
    "# get portfolio balance data from exchange\n",
    "usdt_equity = float(bybit.get_usdt_equity())\n",
    "usdt_available_balance = float(bybit.get_usdt_available_balance())\n",
    "#all_balances = bybit.get_all_balances()\n",
    "print(f'available usdt balance : {usdt_available_balance}')\n",
    "\n",
    "# get balance, position and order data\n",
    "usd_balance = float(bybit.get_usdt_equity())\n",
    "print(\"USD balance :\", round(usd_balance, 2), \"$\")\n",
    "\n",
    "positions_data = bybit.get_open_position()\n",
    "position_list = [\n",
    "    {\"side\": d[\"side\"], \"size\": float(d[\"contracts\"]) * float(d[\"contractSize\"]), \"market_price\":d[\"markPrice\"], \"usd_size\": float(d[\"contracts\"]) * float(d[\"contractSize\"]) * float(d[\"markPrice\"]), \"open_price\": d[\"entryPrice\"]}\n",
    "    for d in positions_data if d[\"symbol\"] == pair]\n",
    "df_position = pd.DataFrame(position_list)\n",
    "print('Positions')\n",
    "print(df_position)\n",
    "\n",
    "orders_list = []\n",
    "for order in bybit.get_open_orders():\n",
    "    orders_list.append(order[\"info\"])\n",
    "df_orders = pd.DataFrame(orders_list)\n",
    "if df_orders.empty == False:\n",
    "    df_orders[\"price\"] = pd.to_numeric(df_orders[\"price\"])\n",
    "    df_orders[\"qty\"] = pd.to_numeric(df_orders[\"qty\"])\n",
    "print('Open orders')\n",
    "print(df_orders)\n",
    "\n",
    "# Get data\n",
    "df = bybit.get_more_last_historical_async(pair, timeframe, 1000)"
   ]
  },
  {
   "cell_type": "code",
   "execution_count": 6,
   "metadata": {},
   "outputs": [],
   "source": [
    "\n",
    "# --- POPULATE INDICATORS ---\n",
    "sell_ema_values={}\n",
    "buy_ema_values={}\n",
    "df.drop(columns=df.columns.difference(['open','high','low','close','volume']), inplace=True)\n",
    "\n",
    "df['ema_base'] = ta.trend.ema_indicator(close=df['close'], window=ema_period)\n",
    "for i, shift in enumerate(ema_shifts, start=1):\n",
    "    df[f'ema_high_{i}'] = df['ema_base'] * (1 + shift)\n",
    "    df[f'ema_low_{i}'] = df['ema_base'] * (1 - shift)\n",
    "    sell_ema_values[f'ema_high_{i}'] = bybit.convert_price_to_precision(pair, df.iloc[-1][f'ema_high_{i}'])\n",
    "    buy_ema_values[f'ema_low_{i}'] = bybit.convert_price_to_precision(pair, df.iloc[-1][f'ema_low_{i}'])\n",
    "\n",
    "# df = get_n_columns(df, [\"ema_base\"] + [f\"ema_high_{i}\" for i in range(1, len(ema_shifts) + 1)] \n",
    "#                    + [f\"ema_low_{i}\" for i in range(1, len(ema_shifts) + 1)] + [\"close\"], 1)"
   ]
  },
  {
   "cell_type": "code",
   "execution_count": 7,
   "metadata": {},
   "outputs": [
    {
     "name": "stdout",
     "output_type": "stream",
     "text": [
      "Cancelled 0 longs and 0 shorts\n"
     ]
    }
   ],
   "source": [
    "# --- CANCEL OPEN UNFILLED ORDERS ---\n",
    "cancelled_longs = []\n",
    "cancelled_shorts = []\n",
    "\n",
    "for order in orders_list:\n",
    "    if order['orderLinkId'] != '' and order['side']=='Buy':\n",
    "        enveloppe_id = order['orderLinkId'].split(\"#\")[0]\n",
    "        cancelled_longs.append(enveloppe_id)\n",
    "        order_id = order['orderId']\n",
    "        order_symbol = order['symbol']\n",
    "        print(f'Cancel buy order {order_id}')\n",
    "        if production:\n",
    "            bybit.cancel_order(order_id = order_id, symbol=order_symbol)\n",
    "    if order['orderLinkId'] != '' and order['side']=='Sell':\n",
    "        enveloppe_id = order['orderLinkId'].split(\"#\")[0]\n",
    "        cancelled_shorts.append(enveloppe_id)\n",
    "        order_id = order['orderId']\n",
    "        order_symbol = order['symbol']\n",
    "        print(f'Cancel sell order {order_id}')\n",
    "        if production:\n",
    "            bybit.cancel_order(order_id = order_id, symbol=order_symbol)\n",
    "\n",
    "print(f'Cancelled {len(cancelled_longs)} longs and {len(cancelled_shorts)} shorts')"
   ]
  },
  {
   "cell_type": "code",
   "execution_count": 8,
   "metadata": {},
   "outputs": [
    {
     "name": "stdout",
     "output_type": "stream",
     "text": [
      "usdt order size for new orders: 246.75238624 using 1x leverage\n",
      "coin order size for new orders: 13785.049510614524\n",
      "rounded coin order size for new orders: 13785.0\n",
      "Place ema_low_1 Long Limit Order: 13785.0 VET/USDT:USDT at the price of 0.01865$\n",
      "Place ema_low_2 Long Limit Order: 13785.0 VET/USDT:USDT at the price of 0.01845$\n",
      "Place ema_low_3 Long Limit Order: 13785.0 VET/USDT:USDT at the price of 0.01825$\n",
      "Place ema_high_1 Short Limit Order: 13785.0 VET/USDT:USDT at the price of 0.019$\n",
      "Place ema_high_2 Short Limit Order: 13785.0 VET/USDT:USDT at the price of 0.0192$\n",
      "Place ema_high_3 Short Limit Order: 13785.0 VET/USDT:USDT at the price of 0.0194$\n"
     ]
    }
   ],
   "source": [
    "# --- CREATE AND MODIFY ORDERS ---\n",
    "# deal entry logic\n",
    "row = df.iloc[-2]\n",
    "unique_id = f\"#{uuid.uuid4()}\"\n",
    "\n",
    "# Determine order size\n",
    "available_positions = max_coins_in_position #- len(df_position)\n",
    "market_price = float(df.iloc[-1]['close'])\n",
    "usdt_position_size = usdt_available_balance / available_positions\n",
    "usdt_order_size = (usdt_position_size*leverage) / nLevel\n",
    "print(f'usdt order size for new orders: {usdt_order_size} using {leverage}x leverage')\n",
    "coin_order_size = usdt_order_size / market_price\n",
    "rounded_coin_order_size = float(bybit.convert_amount_to_precision(pair, coin_order_size))\n",
    "print(f'coin order size for new orders: {coin_order_size}')\n",
    "print(f'rounded coin order size for new orders: {rounded_coin_order_size}')\n",
    "\n",
    "# Adjust TP of open position\n",
    "if len(positions_data) > 0:\n",
    "    print(f\"Active position\")\n",
    "    for order in orders_list:\n",
    "        if order['orderLinkId']=='':\n",
    "            order_size = order['qty']\n",
    "            order_tp = bybit.convert_price_to_precision(pair, df.iloc[-1]['ema_base'])\n",
    "            print(f\"Modify position TP: {order_size} {pair} at the price of {order_tp}$\")\n",
    "            if production:\n",
    "                order = bybit.edit_order(\n",
    "                    id=order['orderId'],\n",
    "                    symbol=order['symbol'],\n",
    "                    type=order['orderType'],\n",
    "                    side=order['side'],\n",
    "                    amount=order['qty'],\n",
    "                    price=None,\n",
    "                    params={\n",
    "                        'triggerPrice': bybit.convert_price_to_precision(pair, df.iloc[-1]['ema_base'])\n",
    "                    }\n",
    "                )\n",
    "            # print(f'modified order:')\n",
    "            # pprint.pprint(order)\n",
    "    \n",
    "# Create new limit orders for remaining slots\n",
    "if open_long(row) and \"long\" in position_type:\n",
    "    for ema, ema_value in buy_ema_values.items():\n",
    "        if (ema in cancelled_longs) or df_orders.empty:\n",
    "            print(f\"Place {ema} Long Limit Order: {rounded_coin_order_size} {pair} at the price of {ema_value}$\")\n",
    "            if production:\n",
    "                order = bybit.place_limit_order(\n",
    "                    symbol=pair,\n",
    "                    side='buy',\n",
    "                    amount=rounded_coin_order_size,\n",
    "                    limit=ema_value,\n",
    "                    sl=None,\n",
    "                    tp=bybit.convert_price_to_precision(pair, df.iloc[-1]['ema_base']),\n",
    "                    reduce=False,\n",
    "                    orderLinkId=f'{ema}{unique_id}'\n",
    "                )          \n",
    "                #print('placed buy orders:')\n",
    "                #pprint.pprint(order)\n",
    "                \n",
    "if open_short(row) and \"short\" in position_type:\n",
    "    for ema, ema_value in sell_ema_values.items():\n",
    "        if (ema in cancelled_shorts) or df_orders.empty:\n",
    "            print(f\"Place {ema} Short Limit Order: {rounded_coin_order_size} {pair} at the price of {ema_value}$\")\n",
    "            if production:\n",
    "                order = bybit.place_limit_order(\n",
    "                    symbol=pair,\n",
    "                    side='sell',\n",
    "                    amount=rounded_coin_order_size,\n",
    "                    limit=ema_value,\n",
    "                    sl=None,\n",
    "                    tp=bybit.convert_price_to_precision(pair, df.iloc[-1]['ema_base']),\n",
    "                    reduce=False,\n",
    "                    orderLinkId=f'{ema}{unique_id}'\n",
    "                )          \n",
    "                #print('placed buy orders:')\n",
    "                #pprint.pprint(order)"
   ]
  },
  {
   "cell_type": "code",
   "execution_count": 10,
   "metadata": {},
   "outputs": [
    {
     "name": "stdout",
     "output_type": "stream",
     "text": [
      "--- End Execution Time : 28/06/2023 21:39:16 ---\n"
     ]
    }
   ],
   "source": [
    "# --- CLOSE ---\n",
    "now = datetime.now()\n",
    "current_time = now.strftime(\"%d/%m/%Y %H:%M:%S\")\n",
    "print(\"--- End Execution Time :\", current_time, \"---\")"
   ]
  },
  {
   "cell_type": "code",
   "execution_count": null,
   "metadata": {},
   "outputs": [],
   "source": []
  }
 ],
 "metadata": {
  "kernelspec": {
   "display_name": "Python 3",
   "language": "python",
   "name": "python3"
  },
  "language_info": {
   "codemirror_mode": {
    "name": "ipython",
    "version": 3
   },
   "file_extension": ".py",
   "mimetype": "text/x-python",
   "name": "python",
   "nbconvert_exporter": "python",
   "pygments_lexer": "ipython3",
   "version": "3.10.11"
  },
  "orig_nbformat": 4
 },
 "nbformat": 4,
 "nbformat_minor": 2
}
