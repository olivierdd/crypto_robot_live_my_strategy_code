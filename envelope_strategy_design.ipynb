{
 "cells": [
  {
   "cell_type": "code",
   "execution_count": 19,
   "metadata": {},
   "outputs": [],
   "source": [
    "# -----------------------------\n",
    "# ENVELOPE STRATEGY DESIGN CODE\n",
    "# -----------------------------\n",
    "\n",
    "# --- IMPORT LIBS ---\n",
    "import os\n",
    "#my_dir = \"/home/oddc/crypto_robot_live/\"\n",
    "my_dir = \"/Users/olivierdedecker/Documents/00_Dev/Python/Crypto_Robot_live/\"\n",
    "lib_file_path = os.path.join(my_dir, 'live_tools', 'utilities')\n",
    "import sys\n",
    "sys.path.append(my_dir + 'utilities')\n",
    "import ta\n",
    "from perp_bybit import *\n",
    "from datetime import datetime\n",
    "import json\n",
    "import uuid\n",
    "import logging"
   ]
  },
  {
   "cell_type": "code",
   "execution_count": 20,
   "metadata": {},
   "outputs": [
    {
     "name": "stdout",
     "output_type": "stream",
     "text": [
      "/Users/olivierdedecker/Documents/00_Dev/Python/Crypto_Robot_live/my_code/log_file.txt\n"
     ]
    }
   ],
   "source": [
    "# --- CONFIGURE LOGGER --\n",
    "log_file_path = os.path.join(my_dir, 'my_code', 'log_file.txt')\n",
    "print(log_file_path)\n",
    "logging.basicConfig(filename = log_file_path, level=logging.INFO, format='%(asctime)s - %(levelname)s - %(message)s')\n",
    "\n",
    "showLog = True\n",
    "\n",
    "def log_me(message):\n",
    "    if showLog:\n",
    "        print(message)\n",
    "        logging.info(message)\n",
    "    else:\n",
    "        logging.info(message)"
   ]
  },
  {
   "cell_type": "code",
   "execution_count": 21,
   "metadata": {},
   "outputs": [
    {
     "name": "stdout",
     "output_type": "stream",
     "text": [
      "\n",
      "================================================================================\n",
      "Start Execution Time : 08/07/2023 10:33:29\n"
     ]
    }
   ],
   "source": [
    "# --- LAUNCH ---\n",
    "showLog = True                      #\n",
    "now = datetime.now()\n",
    "current_time = now.strftime(\"%d/%m/%Y %H:%M:%S\")\n",
    "current_time_python = now.timestamp()\n",
    "log_me(\"\")\n",
    "log_me(\"=\"*80)\n",
    "log_me(f\"Start Execution Time : {current_time}\")"
   ]
  },
  {
   "cell_type": "code",
   "execution_count": 22,
   "metadata": {},
   "outputs": [
    {
     "name": "stdout",
     "output_type": "stream",
     "text": [
      "Launching bot with VET/USDT:USDT on 1h and Leverage x 1\n",
      "-   -   -   -   -   -   -   -   -   -   -   -   -   -   -   -   -   -   -   -   \n"
     ]
    }
   ],
   "source": [
    "# --- PARAMETERS & VARIABLES ---\n",
    "# -- Account --\n",
    "secret_file_path = os.path.join(my_dir, 'live_tools', 'secret.json')\n",
    "f = open(secret_file_path)\n",
    "secret = json.load(f)\n",
    "f.close()\n",
    "\n",
    "exchange_name = 'bybit'\n",
    "account_to_select = 'testnet_account'\n",
    "production = True\n",
    "\n",
    "# -- Coins & timeframe --\n",
    "timeframe = '1h'\n",
    "pair = \"VET/USDT:USDT\"\n",
    "leverage = 1\n",
    "log_me(f\"Launching bot with {pair} on {timeframe} and Leverage x {leverage}\")\n",
    "log_me(\"-   \"*20)\n",
    "\n",
    "# -- Indicator variable --\n",
    "ema_shifts = [0.05, 0.1, 0.15]\n",
    "ema_period = 5\n",
    "\n",
    "# -- Rules --\n",
    "nLevel = len(ema_shifts)            # max number of open positions per coin\n",
    "position_type = [\"long\", \"short\"]   # indicate which kind of positions may be used\n",
    "open_position_asap = True\n",
    "close_position_with_indicator = False"
   ]
  },
  {
   "cell_type": "code",
   "execution_count": 23,
   "metadata": {},
   "outputs": [],
   "source": [
    "# --- FUNCTIONS ---\n",
    "def open_long(row):\n",
    "    if ('long' in position_type) and open_position_asap:\n",
    "        return True\n",
    "    else:\n",
    "        return False\n",
    "\n",
    "def close_long(row):\n",
    "    if close_position_with_indicator:\n",
    "        # some code\n",
    "        return True\n",
    "    else:\n",
    "        return False\n",
    "\n",
    "def open_short(row):\n",
    "    if ('short' in position_type) and open_position_asap:\n",
    "        return True\n",
    "    else:\n",
    "        return False\n",
    "\n",
    "def close_short(row):\n",
    "    if close_position_with_indicator:\n",
    "        # some code\n",
    "        return True\n",
    "    else:\n",
    "        return False"
   ]
  },
  {
   "cell_type": "code",
   "execution_count": 24,
   "metadata": {},
   "outputs": [
    {
     "name": "stdout",
     "output_type": "stream",
     "text": [
      "hey .. set sandbox mode ON\n",
      "CHECKING BALANCES, POSITIONS AND ORDERS\n",
      "available usdt balance: 705.84 $\n",
      "USD balance: 705.84 $\n",
      "\n",
      "Positions\n",
      "Empty DataFrame\n",
      "Columns: []\n",
      "Index: []\n",
      "\n",
      "Open orders\n",
      "Empty DataFrame\n",
      "Columns: []\n",
      "Index: []\n",
      "-   -   -   -   -   -   -   -   -   -   -   -   -   -   -   -   -   -   -   -   \n"
     ]
    }
   ],
   "source": [
    "# --- INITIALIZE EXCHANGE & GET BALANCE ---\n",
    "# connect exchange\n",
    "bybit = PerpBybit(\n",
    "    apiKey=secret[account_to_select][\"apiKey\"],\n",
    "    secret=secret[account_to_select][\"secret\"],\n",
    "    default_type='swap',\n",
    "    is_real=secret[account_to_select][\"is_real\"]\n",
    ")\n",
    "\n",
    "# get portfolio balance data from exchange\n",
    "usdt_equity = float(bybit.get_usdt_equity())\n",
    "usdt_available_balance = float(bybit.get_usdt_available_balance())\n",
    "log_me('CHECKING BALANCES, POSITIONS AND ORDERS')\n",
    "log_me(f'available usdt balance: {usdt_available_balance:.2f} $')\n",
    "\n",
    "# get balance, position and order data\n",
    "usd_balance = float(bybit.get_usdt_equity())\n",
    "log_me(f\"USD balance: {usd_balance:.2f} $\")\n",
    "\n",
    "positions_data = bybit.get_open_position()\n",
    "position_list = [\n",
    "    {\"side\": d[\"side\"], \"size\": float(d[\"contracts\"]) * float(d[\"contractSize\"]), \"market_price\":d[\"markPrice\"], \"usd_size\": float(d[\"contracts\"]) * float(d[\"contractSize\"]) * float(d[\"markPrice\"]), \"open_price\": d[\"entryPrice\"]}\n",
    "    for d in positions_data if d[\"symbol\"] == pair]\n",
    "df_position = pd.DataFrame(position_list)\n",
    "log_me('')\n",
    "log_me('Positions')\n",
    "log_me(df_position)\n",
    "\n",
    "orders_list = []\n",
    "for order in bybit.get_open_orders():\n",
    "    orders_list.append(order[\"info\"])\n",
    "df_orders = pd.DataFrame(orders_list)\n",
    "if df_orders.empty == False:\n",
    "    df_orders[\"price\"] = pd.to_numeric(df_orders[\"price\"])\n",
    "    df_orders[\"qty\"] = pd.to_numeric(df_orders[\"qty\"])\n",
    "log_me('')\n",
    "log_me('Open orders')\n",
    "log_me(df_orders)\n",
    "log_me(\"-   \"*20)\n",
    "\n",
    "# Get data\n",
    "\"\"\"\n",
    "Reminder: you need to adjust the limit parameter in function of the timeframe you use\n",
    "On lower timeframes bybit will not provide the must up to date ohlc priced if the \n",
    "limit is too high\n",
    "\"\"\"\n",
    "df = bybit.get_more_last_historical_async(pair, timeframe, 30)"
   ]
  },
  {
   "cell_type": "code",
   "execution_count": 25,
   "metadata": {},
   "outputs": [
    {
     "name": "stdout",
     "output_type": "stream",
     "text": [
      "COMPUTE INDICATORS\n",
      "- ema base : 0.01869664977848219\n",
      "- ema high 1 : 0.0196314822674063\n",
      "- ema low 1 : 0.01776181728955808\n",
      "- ema high 2 : 0.02056631475633041\n",
      "- ema low 2 : 0.016826984800633972\n",
      "- ema high 3 : 0.02150114724525452\n",
      "- ema low 3 : 0.015892152311709862\n",
      "-   -   -   -   -   -   -   -   -   -   -   -   -   -   -   -   -   -   -   -   \n"
     ]
    }
   ],
   "source": [
    "# --- POPULATE INDICATORS ---\n",
    "log_me(\"COMPUTE INDICATORS\")\n",
    "sell_ema_values={}\n",
    "buy_ema_values={}\n",
    "df.drop(columns=df.columns.difference(['open','high','low','close','volume']), inplace=True)\n",
    "\n",
    "df['ema_base'] = ta.trend.ema_indicator(close=df['close'], window=ema_period)\n",
    "log_me(f'- ema base : {df.iloc[-1][\"ema_base\"]}')\n",
    "for i, shift in enumerate(ema_shifts, start=1):\n",
    "    df[f'ema_high_{i}'] = df['ema_base'] * (1 + shift)\n",
    "    df[f'ema_low_{i}'] = df['ema_base'] * (1 - shift)\n",
    "    log_me(f'- ema high {i} : {df.iloc[-1][\"ema_high_\" + str(i)]}')\n",
    "    log_me(f'- ema low {i} : {df.iloc[-1][f\"ema_low_\" + str(i)]}')\n",
    "    sell_ema_values[f'ema_high_{i}'] = bybit.convert_price_to_precision(pair, df.iloc[-1][f'ema_high_{i}'])\n",
    "    buy_ema_values[f'ema_low_{i}'] = bybit.convert_price_to_precision(pair, df.iloc[-1][f'ema_low_{i}'])\n",
    "log_me(\"-   \"*20)"
   ]
  },
  {
   "cell_type": "code",
   "execution_count": 26,
   "metadata": {},
   "outputs": [
    {
     "name": "stdout",
     "output_type": "stream",
     "text": [
      "MANAGE ORDERS\n",
      "Cancelled 0 longs and 0 shorts\n"
     ]
    }
   ],
   "source": [
    "# --- CANCEL OPEN UNFILLED ORDERS ---\n",
    "log_me(\"MANAGE ORDERS\")\n",
    "cancelled_longs = []\n",
    "cancelled_shorts = []\n",
    "\n",
    "for order in orders_list:\n",
    "    if order['orderLinkId'] != '' and order['side']=='Buy':\n",
    "        enveloppe_id = order['orderLinkId'].split(\"#\")[0]\n",
    "        cancelled_longs.append(enveloppe_id)\n",
    "        order_id = order['orderId']\n",
    "        order_symbol = order['symbol']\n",
    "        log_me(f'Cancel buy order {order_id}')\n",
    "        if production:\n",
    "            bybit.cancel_order(order_id = order_id, symbol=order_symbol)\n",
    "    if order['orderLinkId'] != '' and order['side']=='Sell':\n",
    "        enveloppe_id = order['orderLinkId'].split(\"#\")[0]\n",
    "        cancelled_shorts.append(enveloppe_id)\n",
    "        order_id = order['orderId']\n",
    "        order_symbol = order['symbol']\n",
    "        log_me(f'Cancel sell order {order_id}')\n",
    "        if production:\n",
    "            bybit.cancel_order(order_id = order_id, symbol=order_symbol)\n",
    "\n",
    "log_me(f'Cancelled {len(cancelled_longs)} longs and {len(cancelled_shorts)} shorts')"
   ]
  },
  {
   "cell_type": "code",
   "execution_count": 27,
   "metadata": {},
   "outputs": [
    {
     "name": "stdout",
     "output_type": "stream",
     "text": [
      "usdt order size for new orders: 235.28165952333333 using 1x leverage\n",
      "coin order size for new orders: 12514.981889539007\n",
      "rounded coin order size for new orders: 12514.0\n",
      "Place ema_low_1 Long Limit Order: 12514.0 VET/USDT:USDT at the price of 0.01775 and tp at 0.0187\n",
      "Place ema_low_2 Long Limit Order: 12514.0 VET/USDT:USDT at the price of 0.01685 and tp at 0.0187\n",
      "Place ema_low_3 Long Limit Order: 12514.0 VET/USDT:USDT at the price of 0.0159 and tp at 0.0187\n",
      "Place ema_high_1 Short Limit Order: 12514.0 VET/USDT:USDT at the price of 0.01965 and tp at 0.0187\n",
      "Place ema_high_2 Short Limit Order: 12514.0 VET/USDT:USDT at the price of 0.02055 and tp at 0.0187\n",
      "Place ema_high_3 Short Limit Order: 12514.0 VET/USDT:USDT at the price of 0.0215 and tp at 0.0187\n",
      "-   -   -   -   -   -   -   -   -   -   -   -   -   -   -   -   -   -   -   -   \n"
     ]
    }
   ],
   "source": [
    "# --- CREATE AND MODIFY ORDERS ---\n",
    "# deal entry logic\n",
    "row = df.iloc[-2]\n",
    "unique_id = f\"#{uuid.uuid4()}\"\n",
    "\n",
    "# Determine order size\n",
    "#available_positions = 1\n",
    "market_price = float(df.iloc[-1]['close'])\n",
    "usdt_position_size = usdt_available_balance #/ available_positions\n",
    "usdt_order_size = (usdt_position_size*leverage) / nLevel\n",
    "log_me(f'usdt order size for new orders: {usdt_order_size} using {leverage}x leverage')\n",
    "coin_order_size = usdt_order_size / market_price\n",
    "rounded_coin_order_size = float(bybit.convert_amount_to_precision(pair, coin_order_size))\n",
    "log_me(f'coin order size for new orders: {coin_order_size}')\n",
    "log_me(f'rounded coin order size for new orders: {rounded_coin_order_size}')\n",
    "\n",
    "# Adjust TP of open position\n",
    "if len(positions_data) > 0:\n",
    "    log_me(\"Active position\")\n",
    "    for order in orders_list:\n",
    "        if order['orderLinkId']=='':\n",
    "            order_size = order['qty']\n",
    "            order_tp = bybit.convert_price_to_precision(pair, df.iloc[-1]['ema_base'])\n",
    "            log_me(f\"Modify position TP: {order_size} {pair} at the price of {order_tp}$\")\n",
    "            if production:\n",
    "                order = bybit.edit_order(\n",
    "                    id=order['orderId'],\n",
    "                    symbol=order['symbol'],\n",
    "                    type=order['orderType'],\n",
    "                    side=order['side'],\n",
    "                    amount=order['qty'],\n",
    "                    price=None,\n",
    "                    params={\n",
    "                        'triggerPrice': bybit.convert_price_to_precision(pair, df.iloc[-1]['ema_base'])\n",
    "                    }\n",
    "                )\n",
    "\n",
    "# Create new limit orders for remaining slots\n",
    "if open_long(row) and \"long\" in position_type:\n",
    "    for ema, ema_value in buy_ema_values.items():\n",
    "        if (ema in cancelled_longs) or df_orders.empty or len(df_position)==0:\n",
    "            log_me(f\"Place {ema} Long Limit Order: {rounded_coin_order_size} {pair} at the price of {ema_value} and tp at {bybit.convert_price_to_precision(pair, df.iloc[-1]['ema_base'])}\")\n",
    "            if production:\n",
    "                order = bybit.place_limit_order(\n",
    "                    symbol=pair,\n",
    "                    side='buy',\n",
    "                    amount=rounded_coin_order_size,\n",
    "                    limit=ema_value,\n",
    "                    sl=None,\n",
    "                    tp=bybit.convert_price_to_precision(pair, df.iloc[-1]['ema_base']),\n",
    "                    reduce=False,\n",
    "                    orderLinkId=f'{ema}{unique_id}'\n",
    "                )\n",
    "\n",
    "if open_short(row) and \"short\" in position_type:\n",
    "    for ema, ema_value in sell_ema_values.items():\n",
    "        if (ema in cancelled_shorts) or df_orders.empty or len(df_position)==0:\n",
    "            log_me(f\"Place {ema} Short Limit Order: {rounded_coin_order_size} {pair} at the price of {ema_value} and tp at {bybit.convert_price_to_precision(pair, df.iloc[-1]['ema_base'])}\")\n",
    "            if production:\n",
    "                order = bybit.place_limit_order(\n",
    "                    symbol=pair,\n",
    "                    side='sell',\n",
    "                    amount=rounded_coin_order_size,\n",
    "                    limit=ema_value,\n",
    "                    sl=None,\n",
    "                    tp=bybit.convert_price_to_precision(pair, df.iloc[-1]['ema_base']),\n",
    "                    reduce=False,\n",
    "                    orderLinkId=f'{ema}{unique_id}'\n",
    "                )\n",
    "log_me(\"-   \"*20)"
   ]
  },
  {
   "cell_type": "code",
   "execution_count": 28,
   "metadata": {},
   "outputs": [
    {
     "name": "stdout",
     "output_type": "stream",
     "text": [
      "--- End Execution Time: 08/07/2023 10:33:58 ---\n",
      "\n"
     ]
    }
   ],
   "source": [
    "# --- CLOSE ---\n",
    "now = datetime.now()\n",
    "current_time = now.strftime(\"%d/%m/%Y %H:%M:%S\")\n",
    "log_me(f\"End Execution Time: {current_time}\")\n",
    "log_me(\"\")"
   ]
  },
  {
   "cell_type": "code",
   "execution_count": null,
   "metadata": {},
   "outputs": [],
   "source": []
  }
 ],
 "metadata": {
  "kernelspec": {
   "display_name": "Python 3",
   "language": "python",
   "name": "python3"
  },
  "language_info": {
   "codemirror_mode": {
    "name": "ipython",
    "version": 3
   },
   "file_extension": ".py",
   "mimetype": "text/x-python",
   "name": "python",
   "nbconvert_exporter": "python",
   "pygments_lexer": "ipython3",
   "version": "3.10.11"
  },
  "orig_nbformat": 4
 },
 "nbformat": 4,
 "nbformat_minor": 2
}
